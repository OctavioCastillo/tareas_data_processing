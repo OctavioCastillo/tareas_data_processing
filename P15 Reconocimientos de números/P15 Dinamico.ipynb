{
 "cells": [
  {
   "cell_type": "code",
   "execution_count": 20,
   "id": "370aadd6-88a8-4dce-9592-0a783a95d577",
   "metadata": {},
   "outputs": [],
   "source": [
    "import tkinter as tk\n",
    "from tkinter import messagebox\n",
    "from PIL import Image, ImageDraw, ImageOps\n",
    "import os\n",
    "import datetime\n",
    "import numpy as np\n",
    "import math\n",
    "import tensorflow as tf\n",
    "import tensorflow_datasets as tfds\n",
    "import matplotlib.pyplot as plt\n",
    "import logging"
   ]
  },
  {
   "cell_type": "code",
   "execution_count": 21,
   "id": "4a3c3470-ea01-4d1d-bc13-490f5e2963dc",
   "metadata": {},
   "outputs": [],
   "source": [
    "# === CONFIGURACIÓN GENERAL ===\n",
    "CANVAS_WIDTH = 200\n",
    "CANVAS_HEIGHT = 200\n",
    "BRUSH_SIZE = 12\n",
    "OUTPUT_IMAGE_NAME = \"numero.png\"\n",
    "OUTPUT_FOLDER = \"imagenes\"\n",
    "OUTPUT_SIZE = (28, 28)\n",
    "os.makedirs(OUTPUT_FOLDER, exist_ok=True)"
   ]
  },
  {
   "cell_type": "code",
   "execution_count": 22,
   "id": "3d8f8227-c24a-4fd6-8456-8432e7ba2b12",
   "metadata": {},
   "outputs": [],
   "source": [
    "# === ENTRENAR EL MODELO ===\n",
    "logger = tf.get_logger()\n",
    "logger.setLevel(logging.ERROR)\n",
    "\n",
    "dataset, metadata = tfds.load('mnist', as_supervised=True, with_info=True)\n",
    "train_dataset, test_dataset = dataset['train'], dataset['test']\n",
    "class_names = ['Cero', 'Uno', 'Dos', 'Tres', 'Cuatro', 'Cinco', 'Seis', 'Siete', 'Ocho', 'Nueve']\n",
    "num_train_examples = metadata.splits['train'].num_examples\n",
    "num_test_examples = metadata.splits['test'].num_examples"
   ]
  },
  {
   "cell_type": "code",
   "execution_count": 23,
   "id": "23d0bcf9-6ef3-4a65-a9c3-4e5a9f2c7ecd",
   "metadata": {},
   "outputs": [],
   "source": [
    "def normalize(images, labels):\n",
    "    images = tf.cast(images, tf.float32)\n",
    "    images /= 255\n",
    "    return images, labels\n",
    "\n",
    "train_dataset = train_dataset.map(normalize)\n",
    "test_dataset = test_dataset.map(normalize)\n",
    "\n",
    "model = tf.keras.Sequential([\n",
    "    tf.keras.layers.Flatten(input_shape=(28, 28, 1)),\n",
    "    tf.keras.layers.Dense(64, activation='relu'),\n",
    "    tf.keras.layers.Dense(64, activation='relu'),\n",
    "    tf.keras.layers.Dense(10, activation='softmax')\n",
    "])\n",
    "model.compile(optimizer='adam', loss='sparse_categorical_crossentropy', metrics=['accuracy'])"
   ]
  },
  {
   "cell_type": "code",
   "execution_count": 24,
   "id": "154117eb-2212-4ba0-a3ff-084c4145ed2a",
   "metadata": {},
   "outputs": [],
   "source": [
    "BATCHSIZE = 32\n",
    "train_dataset = train_dataset.repeat().shuffle(num_train_examples).batch(BATCHSIZE)\n",
    "test_dataset = test_dataset.batch(BATCHSIZE)"
   ]
  },
  {
   "cell_type": "code",
   "execution_count": 25,
   "id": "0d834486-de01-430b-8d03-0f6e9877bbdd",
   "metadata": {},
   "outputs": [
    {
     "name": "stdout",
     "output_type": "stream",
     "text": [
      "Entrenando modelo...\n",
      "Epoch 1/5\n",
      "\u001b[1m1875/1875\u001b[0m \u001b[32m━━━━━━━━━━━━━━━━━━━━\u001b[0m\u001b[37m\u001b[0m \u001b[1m10s\u001b[0m 3ms/step - accuracy: 0.8637 - loss: 0.4828\n",
      "Epoch 2/5\n",
      "\u001b[1m1875/1875\u001b[0m \u001b[32m━━━━━━━━━━━━━━━━━━━━\u001b[0m\u001b[37m\u001b[0m \u001b[1m6s\u001b[0m 3ms/step - accuracy: 0.9587 - loss: 0.1388\n",
      "Epoch 3/5\n",
      "\u001b[1m1875/1875\u001b[0m \u001b[32m━━━━━━━━━━━━━━━━━━━━\u001b[0m\u001b[37m\u001b[0m \u001b[1m6s\u001b[0m 3ms/step - accuracy: 0.9733 - loss: 0.0881\n",
      "Epoch 4/5\n",
      "\u001b[1m1875/1875\u001b[0m \u001b[32m━━━━━━━━━━━━━━━━━━━━\u001b[0m\u001b[37m\u001b[0m \u001b[1m7s\u001b[0m 4ms/step - accuracy: 0.9765 - loss: 0.0782\n",
      "Epoch 5/5\n",
      "\u001b[1m1875/1875\u001b[0m \u001b[32m━━━━━━━━━━━━━━━━━━━━\u001b[0m\u001b[37m\u001b[0m \u001b[1m6s\u001b[0m 3ms/step - accuracy: 0.9808 - loss: 0.0620\n",
      "\u001b[1m313/313\u001b[0m \u001b[32m━━━━━━━━━━━━━━━━━━━━\u001b[0m\u001b[37m\u001b[0m \u001b[1m1s\u001b[0m 3ms/step - accuracy: 0.9718 - loss: 0.0973\n",
      "Precisión en pruebas: 0.9713000059127808\n"
     ]
    }
   ],
   "source": [
    "print(\"Entrenando modelo...\")\n",
    "model.fit(train_dataset, epochs=5, steps_per_epoch=math.ceil(num_train_examples / BATCHSIZE))\n",
    "test_loss, test_accuracy = model.evaluate(test_dataset, steps=math.ceil(num_test_examples / 32))\n",
    "print(\"Precisión en pruebas:\", test_accuracy)"
   ]
  },
  {
   "cell_type": "code",
   "execution_count": 26,
   "id": "22ed244e-9461-4fb9-81a0-da9ef25d394a",
   "metadata": {},
   "outputs": [],
   "source": [
    "# === CLASE DE TKINTER PARA DIBUJAR Y PREDECIR ===\n",
    "class Pizarron:\n",
    "    def __init__(self, master):\n",
    "        self.master = master\n",
    "        self.master.title(\"Dibuja un número\")\n",
    "        self.master.geometry(f\"{CANVAS_WIDTH+20}x{CANVAS_HEIGHT+20}\")\n",
    "\n",
    "        self.canvas = tk.Canvas(master, width=CANVAS_WIDTH, height=CANVAS_HEIGHT, bg='white')\n",
    "        self.canvas.pack(padx=10, pady=10)\n",
    "\n",
    "        self.image = Image.new(\"L\", (CANVAS_WIDTH, CANVAS_HEIGHT), 255)\n",
    "        self.draw = ImageDraw.Draw(self.image)\n",
    "\n",
    "        self.canvas.bind(\"<B1-Motion>\", self.dibujar)\n",
    "        self.canvas.bind(\"<ButtonRelease-1>\", self.guardar_y_predecir)\n",
    "\n",
    "    def dibujar(self, event):\n",
    "        x, y = event.x, event.y\n",
    "        x1, y1 = x - BRUSH_SIZE // 2, y - BRUSH_SIZE // 2\n",
    "        x2, y2 = x + BRUSH_SIZE // 2, y + BRUSH_SIZE // 2\n",
    "        self.canvas.create_oval(x1, y1, x2, y2, fill='black', outline='black')\n",
    "        self.draw.ellipse([x1, y1, x2, y2], fill=0)\n",
    "\n",
    "    def guardar_y_predecir(self, event):\n",
    "        # Redimensionar a 28x28\n",
    "        resized = self.image.resize(OUTPUT_SIZE, Image.LANCZOS)\n",
    "        final_path = os.path.join(OUTPUT_FOLDER, OUTPUT_IMAGE_NAME)\n",
    "        resized.save(final_path)\n",
    "\n",
    "        # Mostrar mensaje\n",
    "        messagebox.showinfo(\"Guardado\", f\"Imagen guardada como {OUTPUT_IMAGE_NAME}\")\n",
    "        print(\"Imagen guardada como\", OUTPUT_IMAGE_NAME)\n",
    "\n",
    "        # Predecir\n",
    "        self.predecir_imagen(final_path)\n",
    "\n",
    "        # Limpiar canvas\n",
    "        self.limpiar_canvas()\n",
    "\n",
    "    def predecir_imagen(self, image_path):\n",
    "        img = Image.open(image_path).convert(\"L\")\n",
    "        img_array = np.array(img).reshape((1, 28, 28, 1)).astype(\"float32\") / 255.0\n",
    "        prediction = model.predict(img_array)\n",
    "        predicted_label = np.argmax(prediction)\n",
    "\n",
    "        print(f\"Predicción: {class_names[predicted_label]} ({predicted_label})\")\n",
    "\n",
    "    def limpiar_canvas(self):\n",
    "        self.canvas.delete(\"all\")\n",
    "        self.image = Image.new(\"L\", (CANVAS_WIDTH, CANVAS_HEIGHT), 255)\n",
    "        self.draw = ImageDraw.Draw(self.image)"
   ]
  },
  {
   "cell_type": "code",
   "execution_count": 27,
   "id": "6cddab82-1899-4288-9533-dbe33ca7217a",
   "metadata": {},
   "outputs": [
    {
     "name": "stdout",
     "output_type": "stream",
     "text": [
      "Imagen guardada como numero.png\n",
      "\u001b[1m1/1\u001b[0m \u001b[32m━━━━━━━━━━━━━━━━━━━━\u001b[0m\u001b[37m\u001b[0m \u001b[1m0s\u001b[0m 182ms/step\n",
      "Predicción: Cinco (5)\n",
      "Imagen guardada como numero.png\n",
      "\u001b[1m1/1\u001b[0m \u001b[32m━━━━━━━━━━━━━━━━━━━━\u001b[0m\u001b[37m\u001b[0m \u001b[1m0s\u001b[0m 78ms/step\n",
      "Predicción: Cinco (5)\n"
     ]
    }
   ],
   "source": [
    "root = tk.Tk()\n",
    "app = Pizarron(root)\n",
    "root.mainloop()"
   ]
  },
  {
   "cell_type": "code",
   "execution_count": null,
   "id": "49969a96-a6a9-42c5-a7e5-b64339356fa2",
   "metadata": {},
   "outputs": [],
   "source": []
  }
 ],
 "metadata": {
  "kernelspec": {
   "display_name": "Python [conda env:base] *",
   "language": "python",
   "name": "conda-base-py"
  },
  "language_info": {
   "codemirror_mode": {
    "name": "ipython",
    "version": 3
   },
   "file_extension": ".py",
   "mimetype": "text/x-python",
   "name": "python",
   "nbconvert_exporter": "python",
   "pygments_lexer": "ipython3",
   "version": "3.12.3"
  }
 },
 "nbformat": 4,
 "nbformat_minor": 5
}
